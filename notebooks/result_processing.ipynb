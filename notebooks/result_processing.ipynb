{
 "cells": [
  {
   "attachments": {},
   "cell_type": "markdown",
   "metadata": {},
   "source": [
    "# Convert quantum results to GPT3 strings\n",
    "\n",
    "- Count total shots\n",
    "- Filter errors (eg: '00110', '00000')\n",
    "- Add missing zero results when they are not present\n",
    "- Convert qbit binary string back to index\n",
    "- Order results by original places index\n",
    "- Map results to places and convert to probabilities\n",
    "- Output well formatted likelyhood strings for the GPT3 API"
   ]
  },
  {
   "attachments": {},
   "cell_type": "markdown",
   "metadata": {},
   "source": [
    "## Quantum results cleanup and post processing"
   ]
  },
  {
   "cell_type": "code",
   "execution_count": 28,
   "metadata": {},
   "outputs": [],
   "source": [
    "# Numpy is needed for the entropy computation\n",
    "import numpy as np\n",
    "\n",
    "# JSON data sent to the server\n",
    "json_data = {\n",
    "    \"computer\": \"ionq\",  # quantum computer to use\n",
    "    \"places\": [          # list of places to visit and their probabilities\n",
    "        [\"Gym\", 0.2],\n",
    "        [\"Opera\", 0.5],\n",
    "        [\"Rooftop bar\", 0.9],\n",
    "        [\"Street fair\", 0.0],\n",
    "        [\"Pool\", 0.1],\n",
    "    ]\n",
    "}\n",
    "places = json_data['places']\n",
    "qbit_count = len(places)\n",
    "\n",
    "# Quantum computer results (generating missing keys and different kind of errors)\n",
    "results = {\n",
    "  \"10000\": 85,  # 4\n",
    "  \"00001\": 836, # 0\n",
    "  \"00010\": 99,  # 1\n",
    "  \"01000\": 1,   # 3\n",
    "  # \"00100\": 0, # 2 has no result\n",
    "  \"01100\": 2,   # Error\n",
    "  \"00000\": 1,   # Error\n",
    "}\n",
    "\n",
    "# Total shots\n",
    "total_shots = sum(results.values())"
   ]
  },
  {
   "cell_type": "code",
   "execution_count": 29,
   "metadata": {},
   "outputs": [
    {
     "name": "stdout",
     "output_type": "stream",
     "text": [
      "{'10000': 85, '00001': 836, '00010': 99, '01000': 1}\n"
     ]
    }
   ],
   "source": [
    "def filter_errors(result):\n",
    "    ''' Detect errors and remove it from the results '''\n",
    "    return {key: value for key, value in result.items() if key.count('1') == 1}\n",
    "\n",
    "# Filtered results\n",
    "filtered_results = filter_errors(results)\n",
    "print(filtered_results)"
   ]
  },
  {
   "cell_type": "code",
   "execution_count": 30,
   "metadata": {},
   "outputs": [
    {
     "name": "stdout",
     "output_type": "stream",
     "text": [
      "0\n",
      "2\n"
     ]
    }
   ],
   "source": [
    "def convert_binary_to_index(binary_string):\n",
    "    ''' Convert binary strings to indices (e.g. '00010' -> 1 and '10000' -> 4) '''\n",
    "    if '1' in binary_string:\n",
    "        return len(binary_string) - binary_string.index('1') - 1\n",
    "    else:\n",
    "        raise ValueError('Binary string must contain at least one 1')\n",
    "\n",
    "index0 = convert_binary_to_index('00001')\n",
    "print(index0)\n",
    "index2 = convert_binary_to_index('00100')\n",
    "print(index2)"
   ]
  },
  {
   "cell_type": "code",
   "execution_count": 31,
   "metadata": {},
   "outputs": [
    {
     "name": "stdout",
     "output_type": "stream",
     "text": [
      "00001\n",
      "00010\n",
      "01000\n"
     ]
    }
   ],
   "source": [
    "def convert_index_to_binary(index, qbit_count):\n",
    "    ''' Convert index to binary string (e.g. 3 -> '01000' and 4 -> '10000') '''\n",
    "    zero_str = \"0\" * qbit_count\n",
    "    zero_str = zero_str[:index] + \"1\" + zero_str[index + 1:]\n",
    "    return zero_str[::-1]\n",
    "\n",
    "binary_string0 = convert_index_to_binary(0, 5)\n",
    "print(binary_string0)\n",
    "binary_string1 = convert_index_to_binary(1, 5)\n",
    "print(binary_string1)\n",
    "binary_string3 = convert_index_to_binary(3, 5)\n",
    "print(binary_string3)"
   ]
  },
  {
   "cell_type": "code",
   "execution_count": 32,
   "metadata": {},
   "outputs": [
    {
     "name": "stdout",
     "output_type": "stream",
     "text": [
      "{'10000': 85, '00001': 836, '00010': 99, '01000': 1, '00100': 0}\n"
     ]
    }
   ],
   "source": [
    "def add_missing_results(result, qbit_count):\n",
    "    ''' Add missing results to the result dictionary '''\n",
    "    for i in range(qbit_count):\n",
    "        binary_string = convert_index_to_binary(i, qbit_count)\n",
    "        if binary_string not in result:\n",
    "            result[binary_string] = 0\n",
    "    return result\n",
    "\n",
    "completed_results = add_missing_results(filtered_result, qbit_count)\n",
    "print(completed_results)"
   ]
  },
  {
   "cell_type": "code",
   "execution_count": 33,
   "metadata": {},
   "outputs": [
    {
     "name": "stdout",
     "output_type": "stream",
     "text": [
      "[[0, '00001', 836], [1, '00010', 99], [2, '00100', 0], [3, '01000', 1], [4, '10000', 85]]\n"
     ]
    }
   ],
   "source": [
    "def order_results(result):\n",
    "    ''' Order results using the original index '''\n",
    "    ordered_result = []\n",
    "    for key, value in result.items():\n",
    "        index = convert_binary_to_index(key)\n",
    "        ordered_result.append([index, key, value])\n",
    "    ordered_result.sort()\n",
    "    return ordered_result\n",
    "\n",
    "ordered_results = order_results(completed_results)\n",
    "print(ordered_results)"
   ]
  },
  {
   "cell_type": "code",
   "execution_count": 34,
   "metadata": {},
   "outputs": [
    {
     "name": "stdout",
     "output_type": "stream",
     "text": [
      "[['Gym', 0.81640625], ['Opera', 0.0966796875], ['Rooftop bar', 0.0], ['Street fair', 0.0009765625], ['Pool', 0.0830078125]]\n"
     ]
    }
   ],
   "source": [
    "def convert_to_places(result, places, total_shots):\n",
    "    ''' Convert qbit keys and shots to places and probabilities (e.g. [1, '00010', 85] -> ['Opera', 0.085]) '''\n",
    "    readable_result = []\n",
    "    for line in result:\n",
    "        place = places[line[0]][0]\n",
    "        probability = line[2] / total_shots\n",
    "        readable_result.append([place, probability])\n",
    "    return readable_result\n",
    "\n",
    "processed_results = convert_to_places(ordered_results, places, total_shots)\n",
    "print(processed_results)"
   ]
  },
  {
   "cell_type": "code",
   "execution_count": 35,
   "metadata": {},
   "outputs": [
    {
     "name": "stdout",
     "output_type": "stream",
     "text": [
      "may have gone to the opera\n"
     ]
    }
   ],
   "source": [
    "def convert_probability_to_likelyhood(probability):\n",
    "    ''' Method to convert probabilities to likelyhoods strings.'''\n",
    "    if 0 <= probability < 0.25:\n",
    "        return \"wasn't at the \"\n",
    "    elif 0.25 <= probability < 0.75:\n",
    "        return \"may have gone to the \"\n",
    "    elif 0.75 <= probability <= 1.0:\n",
    "        return \"likely went to the \"\n",
    "    else:\n",
    "        raise ValueError('Probability must be between 0 and 1.')\n",
    "\n",
    "# Convert probabilities to readable GPT3 strings\n",
    "likelyhood = convert_probability_to_likelyhood(0.6)\n",
    "place = 'opera'\n",
    "worded_result = likelyhood + place\n",
    "print(worded_result)"
   ]
  },
  {
   "attachments": {},
   "cell_type": "markdown",
   "metadata": {},
   "source": [
    "## Shot count and percentage"
   ]
  },
  {
   "cell_type": "code",
   "execution_count": 37,
   "metadata": {},
   "outputs": [
    {
     "name": "stdout",
     "output_type": "stream",
     "text": [
      "Error percentage: 3 / 1024 -> 0.29%\n"
     ]
    }
   ],
   "source": [
    "# Total shots\n",
    "total_shots = sum(results.values())\n",
    "\n",
    "# Valid shots from the filtered results\n",
    "valid_shots = sum(filtered_results.values())\n",
    "\n",
    "# Compute error shots\n",
    "error_shots = total_shots - valid_shots\n",
    "\n",
    "# Compute error percentage\n",
    "error_percentage = error_shots / total_shots\n",
    "\n",
    "print(f'Error percentage: {error_shots} / {total_shots} -> {error_percentage:.2%}')"
   ]
  },
  {
   "attachments": {},
   "cell_type": "markdown",
   "metadata": {},
   "source": [
    "## Shannon's entropy\n",
    "\n",
    "We can use Shannon's entropy to measure the uncertainty of a probability distribution. \n",
    "\n",
    "The higher the entropy, the more uncertain and 'chaotic' the distribution is."
   ]
  },
  {
   "cell_type": "code",
   "execution_count": 41,
   "metadata": {},
   "outputs": [
    {
     "name": "stdout",
     "output_type": "stream",
     "text": [
      "Normed entropy: 0.38\n"
     ]
    },
    {
     "name": "stderr",
     "output_type": "stream",
     "text": [
      "c:\\Users\\Windows\\.virtualenvs\\quintessence--qpE3CGX\\lib\\site-packages\\ipykernel_launcher.py:5: RuntimeWarning: divide by zero encountered in log\n",
      "  \"\"\"\n",
      "c:\\Users\\Windows\\.virtualenvs\\quintessence--qpE3CGX\\lib\\site-packages\\ipykernel_launcher.py:5: RuntimeWarning: invalid value encountered in multiply\n",
      "  \"\"\"\n"
     ]
    }
   ],
   "source": [
    "def entropy(probabilities):\n",
    "    '''Compute the normed entropy of the probability distribution.'''\n",
    "    if isinstance(probabilities, list):\n",
    "        probabilities = np.array(probabilities)\n",
    "    scaled = -probabilities * np.log(probabilities)\n",
    "    scaled[np.isnan(scaled)] = 0\n",
    "\n",
    "    entropy_max = np.log(len(probabilities))\n",
    "    entropy_val = np.sum(scaled)\n",
    "    return entropy_val / entropy_max\n",
    "\n",
    "probabilities = [line[1] for line in processed_results]\n",
    "entropy_value = entropy(probabilities)\n",
    "print(f'Normed entropy: {entropy(probabilities):.2f}')"
   ]
  },
  {
   "cell_type": "code",
   "execution_count": 43,
   "metadata": {},
   "outputs": [
    {
     "name": "stdout",
     "output_type": "stream",
     "text": [
      "Entropy string: boring\n"
     ]
    }
   ],
   "source": [
    "\n",
    "def convert_entropy_to_words(normed_entropy):\n",
    "    '''Convert the entropy value to a word.'''\n",
    "    if 0 <= normed_entropy < 0.1:\n",
    "        return \"uneventful\"\n",
    "    elif 0.1 <= normed_entropy < 0.4:\n",
    "        return \"boring\"\n",
    "    elif 0.4 <= normed_entropy < 0.6:\n",
    "        return \"regular\"\n",
    "    elif 0.6 <= normed_entropy < 0.9:\n",
    "        return \"exciting\"\n",
    "    elif 0.9 <= normed_entropy < 1.0:\n",
    "        return \"chaotic\"\n",
    "    else:\n",
    "        raise ValueError('Entropy must be between 0 and 1.')\n",
    "\n",
    "print(f'Entropy string: {convert_entropy_to_words(entropy_value)}')"
   ]
  },
  {
   "attachments": {},
   "cell_type": "markdown",
   "metadata": {},
   "source": [
    "## Create GPT3 prompt\n",
    "\n",
    "Use entropy and quantum results to create a GPT3 prompt."
   ]
  },
  {
   "cell_type": "code",
   "execution_count": 50,
   "metadata": {},
   "outputs": [
    {
     "name": "stdout",
     "output_type": "stream",
     "text": [
      "[['Gym', 0.81640625], ['Opera', 0.0966796875], ['Pool', 0.0830078125]]\n",
      "Mr. Quanta cannot remember how he got here. Tell the story of him trying to\n",
      "                remember how he got here in 3 steps and be descriptive.\n",
      "                He only remembers a few things, and considers each possible place one at a time. \n",
      "                Use grandiose language. Embelish everything and paint a picture with words. \n",
      "                Make the descriptions drip with imagery. He had a boring time before awakening at the Gym, and before that likely went to the Gym, wasn't at the Opera, wasn't at the Pool, .\n"
     ]
    }
   ],
   "source": [
    "def create_gpt3_prompt(results, entropy):\n",
    "    '''Method to create the GPT-3 prompt.'''\n",
    "\n",
    "    # Initial place\n",
    "    initial_place = results[0][0]\n",
    "\n",
    "    # Convert numerical values to words\n",
    "    entropy_adjective = convert_entropy_to_words(entropy)\n",
    "\n",
    "    # Sort top 3 results\n",
    "    results.sort(key=lambda x: x[1], reverse=True)\n",
    "    results = results[:3]\n",
    "    print(results)\n",
    "\n",
    "    # Convert probabilities to readable GPT3 strings\n",
    "    worded_results = []\n",
    "    for result in results:\n",
    "        likelyhood = convert_probability_to_likelyhood(result[1])\n",
    "        place = result[0]\n",
    "        worded_results.append(likelyhood + place)\n",
    "\n",
    "    prompt = '''Mr. Quanta cannot remember how he got here. Tell the story of him trying to\n",
    "                remember how he got here in 3 steps and be descriptive.\n",
    "                He only remembers a few things, and considers each possible place one at a time. \n",
    "                Use grandiose language. Embelish everything and paint a picture with words. \n",
    "                Make the descriptions drip with imagery. '''\n",
    "    prompt += f\"He had a { entropy_adjective } time before \"\n",
    "    prompt += f\"awakening at the { initial_place }, and before that \"\n",
    "\n",
    "    # Append probability strings in the prompt\n",
    "    for worded_result in worded_results:\n",
    "        prompt += worded_result  + ', '\n",
    "    prompt += \".\"\n",
    "\n",
    "    return prompt\n",
    "\n",
    "# Create GPT-3 prompt\n",
    "prompt = create_gpt3_prompt(processed_results, entropy_value)\n",
    "print(prompt)"
   ]
  }
 ],
 "metadata": {
  "kernelspec": {
   "display_name": "Python 3",
   "language": "python",
   "name": "python3"
  },
  "language_info": {
   "codemirror_mode": {
    "name": "ipython",
    "version": 3
   },
   "file_extension": ".py",
   "mimetype": "text/x-python",
   "name": "python",
   "nbconvert_exporter": "python",
   "pygments_lexer": "ipython3",
   "version": "3.7.15"
  },
  "orig_nbformat": 4,
  "vscode": {
   "interpreter": {
    "hash": "aee8b7b246df8f9039afb4144a1f6fd8d2ca17a180786b69acc140d282b71a49"
   }
  }
 },
 "nbformat": 4,
 "nbformat_minor": 2
}
