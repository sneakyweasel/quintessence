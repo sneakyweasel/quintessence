{
 "cells": [
  {
   "cell_type": "code",
   "execution_count": 3,
   "metadata": {},
   "outputs": [],
   "source": [
    "# import packages\n",
    "from qiskit import QuantumCircuit, transpile\n",
    "from qiskit.circuit import Parameter, ParameterVector\n",
    "from qiskit.visualization import plot_histogram\n",
    "from qiskit_ionq import IonQProvider\n",
    "import numpy as np\n",
    "\n",
    "provider = IonQProvider(\"tQgNZln2nI3JSOg7hZhRXjSJHYfgrS2S\")\n",
    "\n",
    "provider.backends()\n",
    "backend = provider.get_backend(\"ionq_simulator\")"
   ]
  },
  {
   "cell_type": "code",
   "execution_count": 74,
   "metadata": {},
   "outputs": [],
   "source": [
    "def random_walk(start, J_val, K_vals, steps):\n",
    "    L = len(K_vals)\n",
    "    #Define Parameters\n",
    "    J = Parameter('J')\n",
    "    K_i = []\n",
    "    for ind in range(L):\n",
    "        K_i.append(Parameter('K_'+str(ind)))\n",
    "    #Define Unitary\n",
    "    qc_U = QuantumCircuit(L)\n",
    "    for i in range(L):\n",
    "        qc_U.rz(K_i[i]/2, i)\n",
    "    for i in range(L):\n",
    "        if i % 2 == 0:\n",
    "            qc_U.rxx(-J/2, i%L, (i+1)%L)\n",
    "            qc_U.ryy(-J/2, i%L, (i+1)%L)\n",
    "    for i in range(L):\n",
    "        if i % 2 != 0:\n",
    "            qc_U.rxx(-J, i%L, (i+1)%L)\n",
    "            qc_U.ryy(-J, i%L, (i+1)%L)\n",
    "    for i in range(L):\n",
    "        if i % 2 == 0:\n",
    "            qc_U.rxx(-J/2, i%L, (i+1)%L)\n",
    "            qc_U.ryy(-J/2, i%L, (i+1)%L)\n",
    "    for i in range(L):\n",
    "        qc_U.rz(K_i[i]/2, i)\n",
    "        #qc_U.p(K_i[i], i)\n",
    "    #Compose Main Circuit with set number of Unitary steps:\n",
    "    qc_main = QuantumCircuit(L)\n",
    "    qc_main.x(start)\n",
    "    for step in range(steps):\n",
    "        qc_main = qc_main.compose(qc_U, qubits=range(L))\n",
    "    #Add Measurement Circuit\n",
    "    qc_meas = QuantumCircuit(L,L)\n",
    "    qc_meas.measure_all(add_bits=False)\n",
    "    qc_end = qc_main.compose(qc_meas, range(L))\n",
    "    #Bind Parameters\n",
    "    qc_end = qc_end.bind_parameters({J:J_val})\n",
    "    for ind in range(L):\n",
    "        qc_end = qc_end.bind_parameters({K_i[ind]:K_vals[ind]})\n",
    "    #Transpile and Run\n",
    "    trans_circ = transpile(qc_end, backend)\n",
    "    job = backend.run(trans_circ)\n",
    "    #Return the counts for the jobs\n",
    "    return job.result().get_counts()"
   ]
  },
  {
   "cell_type": "code",
   "execution_count": null,
   "metadata": {},
   "outputs": [],
   "source": [
    "def random_walk(start, J_val, J_val_2, K_vals, steps):\n",
    "    L = len(K_vals)\n",
    "    #Define Parameters\n",
    "    J = Parameter('J')\n",
    "    J2 = Parameter('J2')\n",
    "    K_i = []\n",
    "    for ind in range(L):\n",
    "        K_i.append(Parameter('K_'+str(ind)))\n",
    "    #Define Unitary\n",
    "    qc_U = QuantumCircuit(L)\n",
    "    for i in range(L):\n",
    "        qc_U.rz(K_i[i]/2, i)\n",
    "    #even - nearest neighbors\n",
    "    for i in range(L):\n",
    "        if i % 2 == 0:\n",
    "            qc_U.rxx(-J/2, i%L, (i+1)%L)\n",
    "            qc_U.ryy(-J/2, i%L, (i+1)%L)\n",
    "    #odd - nearest neighbors\n",
    "    for i in range(L):\n",
    "        if i % 2 != 0:\n",
    "            qc_U.rxx(-J/2, i%L, (i+1)%L)\n",
    "            qc_U.ryy(-J/2, i%L, (i+1)%L)\n",
    "            \n",
    "    #evens - 2nd nearest neighbors\n",
    "    for i in range(L):\n",
    "        if i % 2 == 0:\n",
    "            qc_U.rxx(-J2/2, i%L, (i+2)%L)\n",
    "            qc_U.ryy(-J2/2, i%L, (i+2)%L)\n",
    "    #odds - 2nd nearest neighbors\n",
    "    for i in range(L):\n",
    "        if i % 2 != 0:\n",
    "            qc_U.rxx(-J2, i%L, (i+2)%L)\n",
    "            qc_U.ryy(-J2, i%L, (i+2)%L)   \n",
    "    #evens - 2nd nearest neighbors     \n",
    "    for i in range(L):\n",
    "        if i % 2 == 0:\n",
    "            qc_U.rxx(-J2/2, i%L, (i+2)%L)\n",
    "            qc_U.ryy(-J2/2, i%L, (i+2)%L)\n",
    "\n",
    "    #odd - nearest neighbors\n",
    "    for i in range(L):\n",
    "        if i % 2 != 0:\n",
    "            qc_U.rxx(-J/2, i%L, (i+1)%L)\n",
    "            qc_U.ryy(-J/2, i%L, (i+1)%L)\n",
    "    #even nearest neighbors\n",
    "    for i in range(L):\n",
    "        if i % 2 == 0:\n",
    "            qc_U.rxx(-J/2, i%L, (i+1)%L)\n",
    "            qc_U.ryy(-J/2, i%L, (i+1)%L)\n",
    "    for i in range(L):\n",
    "        qc_U.rz(K_i[i]/2, i)\n",
    "        #qc_U.p(K_i[i], i)\n",
    "    #Compose Main Circuit with set number of Unitary steps:\n",
    "    qc_main = QuantumCircuit(L)\n",
    "    qc_main.x(start)\n",
    "    for step in range(steps):\n",
    "        qc_main = qc_main.compose(qc_U, qubits=range(L))\n",
    "    #Add Measurement Circuit\n",
    "    qc_meas = QuantumCircuit(L,L)\n",
    "    qc_meas.measure_all(add_bits=False)\n",
    "    qc_end = qc_main.compose(qc_meas, range(L))\n",
    "    #Bind Parameters\n",
    "    qc_end = qc_end.bind_parameters({J:J_val})\n",
    "    qc_end = qc_end.bind_parameters({J2:J_val_2})\n",
    "    for ind in range(L):\n",
    "        qc_end = qc_end.bind_parameters({K_i[ind]:K_vals[ind]})\n",
    "    #Transpile and Run\n",
    "    trans_circ = transpile(qc_end, backend)\n",
    "    job = backend.run(trans_circ)\n",
    "    #Return the counts for the jobs\n",
    "    return job.result().get_counts()"
   ]
  },
  {
   "cell_type": "code",
   "execution_count": 99,
   "metadata": {},
   "outputs": [
    {
     "data": {
      "text/plain": [
       "{'000000000001': 68,\n",
       " '000000000010': 19,\n",
       " '000000000100': 0,\n",
       " '000000001000': 1,\n",
       " '000000010000': 408,\n",
       " '000000100000': 23,\n",
       " '000001000000': 3,\n",
       " '000010000000': 32,\n",
       " '000100000000': 447,\n",
       " '001000000000': 2,\n",
       " '010000000000': 2,\n",
       " '100000000000': 19}"
      ]
     },
     "execution_count": 99,
     "metadata": {},
     "output_type": "execute_result"
    }
   ],
   "source": [
    "start = 0\n",
    "K_vals = 0*np.ones(12)\n",
    "K_vals[0] = 0\n",
    "steps = 5\n",
    "J_val = np.pi/10\n",
    "\n",
    "\n",
    "results = random_walk(start, J_val, K_vals, steps)\n",
    "results"
   ]
  },
  {
   "cell_type": "code",
   "execution_count": 12,
   "metadata": {},
   "outputs": [
    {
     "data": {
      "text/plain": [
       "array([ 0.,  0.,  0.,  0.,  0.,  0., 20.,  0.,  0.,  0.,  0.,  0.])"
      ]
     },
     "execution_count": 12,
     "metadata": {},
     "output_type": "execute_result"
    }
   ],
   "source": [
    "K_vals"
   ]
  }
 ],
 "metadata": {
  "kernelspec": {
   "display_name": "Python 3",
   "language": "python",
   "name": "python3"
  },
  "language_info": {
   "codemirror_mode": {
    "name": "ipython",
    "version": 3
   },
   "file_extension": ".py",
   "mimetype": "text/x-python",
   "name": "python",
   "nbconvert_exporter": "python",
   "pygments_lexer": "ipython3",
   "version": "3.10.9 (tags/v3.10.9:1dd9be6, Dec  6 2022, 20:01:21) [MSC v.1934 64 bit (AMD64)]"
  },
  "orig_nbformat": 4,
  "vscode": {
   "interpreter": {
    "hash": "8649ced70e2df50cbec1162fce5f764529cbe99dc753d77d52a836183a2bd877"
   }
  }
 },
 "nbformat": 4,
 "nbformat_minor": 2
}
