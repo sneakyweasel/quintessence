{
 "cells": [
  {
   "attachments": {},
   "cell_type": "markdown",
   "metadata": {},
   "source": [
    "# Convert quantum results to GPT3 strings\n",
    "\n",
    "- Count total shots\n",
    "- Filter errors (eg: '00110', '00000')\n",
    "- Convert qbit binary string back to index\n",
    "- Order results by original places index\n",
    "- Map results to places and convert to probabilities"
   ]
  },
  {
   "cell_type": "code",
   "execution_count": 114,
   "metadata": {},
   "outputs": [],
   "source": [
    "# JSON data\n",
    "json_data = {\n",
    "    \"computer\": \"ionq\",  # quantum computer to use\n",
    "    \"qbit_count\": 5,     # number of qubits to use\n",
    "    \"places\": [          # list of places to visit and their probabilities\n",
    "        [\"Gym\", 0.2],\n",
    "        [\"Opera\", 0.5],\n",
    "        [\"Rooftop bar\", 0.9],\n",
    "        [\"Street fair\", 0.0],\n",
    "        [\"Pool\", 0.1],\n",
    "    ]\n",
    "}\n",
    "places = json_data['places']\n",
    "\n",
    "# Quantum computer results\n",
    "result = {\n",
    "  \"10000\": 85,  # 5\n",
    "  \"00001\": 832, # 1\n",
    "  \"00100\": 4,   # 3\n",
    "  \"00010\": 99,  # 2\n",
    "  \"01000\": 1,   # 4\n",
    "  \"01100\": 2,   # Error\n",
    "  \"00000\": 1,   # Error\n",
    "}"
   ]
  },
  {
   "cell_type": "code",
   "execution_count": 115,
   "metadata": {},
   "outputs": [
    {
     "name": "stdout",
     "output_type": "stream",
     "text": [
      "1024\n"
     ]
    }
   ],
   "source": [
    "# Total shots\n",
    "total_shots = sum(result.values())\n",
    "print(total_shots)"
   ]
  },
  {
   "cell_type": "code",
   "execution_count": 116,
   "metadata": {},
   "outputs": [
    {
     "name": "stdout",
     "output_type": "stream",
     "text": [
      "{'10000': 85, '00001': 832, '00100': 4, '00010': 99, '01000': 1}\n"
     ]
    }
   ],
   "source": [
    "# Detect errors and remove it from the results\n",
    "def filter_errors(result):\n",
    "    return {key: value for key, value in result.items() if key.count('1') == 1}\n",
    "\n",
    "# Clean results\n",
    "filtered_result = filter_errors(result)\n",
    "print(filtered_result)"
   ]
  },
  {
   "cell_type": "code",
   "execution_count": 117,
   "metadata": {},
   "outputs": [
    {
     "name": "stdout",
     "output_type": "stream",
     "text": [
      "2\n"
     ]
    }
   ],
   "source": [
    "# Convert binary strings to places (e.g. '00010' -> 1)\n",
    "def convert_binary_to_index(binary_string):\n",
    "    if '1' in binary_string:\n",
    "        return len(binary_string) - binary_string.index('1') - 1\n",
    "    else:\n",
    "        return -1\n",
    "\n",
    "index2 = convert_binary_to_index('00100')\n",
    "print(index2)"
   ]
  },
  {
   "cell_type": "code",
   "execution_count": 118,
   "metadata": {},
   "outputs": [
    {
     "name": "stdout",
     "output_type": "stream",
     "text": [
      "[[0, '00001', 832], [1, '00010', 99], [2, '00100', 4], [3, '01000', 1], [4, '10000', 85]]\n"
     ]
    }
   ],
   "source": [
    "# Order results using the original index\n",
    "def order_results(result):\n",
    "    ordered_result = []\n",
    "    for key, value in result.items():\n",
    "        index = convert_binary_to_index(key)\n",
    "        ordered_result.append([index, key, value])\n",
    "    ordered_result.sort()\n",
    "    return ordered_result\n",
    "\n",
    "ordered_result = order_results(filtered_result)\n",
    "print(ordered_result)"
   ]
  },
  {
   "cell_type": "code",
   "execution_count": 120,
   "metadata": {},
   "outputs": [
    {
     "name": "stdout",
     "output_type": "stream",
     "text": [
      "[['Gym', 0.8125], ['Opera', 0.0966796875], ['Rooftop bar', 0.00390625], ['Street fair', 0.0009765625], ['Pool', 0.0830078125]]\n"
     ]
    }
   ],
   "source": [
    "# Convert qbit keys and shots to places and probabilities (e.g. [1, '00010', 85] -> ['Opera', 0.085])\n",
    "def convert_to_places(result, places, total_shots):\n",
    "    readable_result = []\n",
    "    for line in result:\n",
    "        place = places[line[0]][0]\n",
    "        probability = line[2] / total_shots\n",
    "        readable_result.append([place, probability])\n",
    "    return readable_result\n",
    "\n",
    "processed_results = convert_to_places(ordered_result, places, total_shots)\n",
    "print(processed_results)"
   ]
  },
  {
   "cell_type": "code",
   "execution_count": 126,
   "metadata": {},
   "outputs": [
    {
     "name": "stdout",
     "output_type": "stream",
     "text": [
      "['likely went  the Gym', \"wasn't at  the Opera\", \"wasn't at  the Rooftop bar\", \"wasn't at  the Street fair\", \"wasn't at  the Pool\"]\n"
     ]
    }
   ],
   "source": [
    "def convert_probability_to_likelyhood(probability):\n",
    "    ''' Method to convert probabilities to likelyhoods strings.'''\n",
    "    if 0 <= probability < 0.25:\n",
    "        return \"wasn't at the \"\n",
    "    elif 0.25 <= probability < 0.75:\n",
    "        return \"may have gone to the \"\n",
    "    elif 0.75 <= probability <= 1.0:\n",
    "        return \"likely went to the \"\n",
    "    else:\n",
    "        raise ValueError('Probability must be between 0 and 1.')\n",
    "\n",
    "# Convert probabilities to words\n",
    "readable_result = []\n",
    "for line in processed_results:\n",
    "    likelyhood = convert_probability_to_likelyhood(line[1])\n",
    "    place = line[0]\n",
    "    readable_result.append(likelyhood + place)\n",
    "print(readable_result)"
   ]
  }
 ],
 "metadata": {
  "kernelspec": {
   "display_name": "Python 3",
   "language": "python",
   "name": "python3"
  },
  "language_info": {
   "codemirror_mode": {
    "name": "ipython",
    "version": 3
   },
   "file_extension": ".py",
   "mimetype": "text/x-python",
   "name": "python",
   "nbconvert_exporter": "python",
   "pygments_lexer": "ipython3",
   "version": "3.10.9"
  },
  "orig_nbformat": 4,
  "vscode": {
   "interpreter": {
    "hash": "aee8b7b246df8f9039afb4144a1f6fd8d2ca17a180786b69acc140d282b71a49"
   }
  }
 },
 "nbformat": 4,
 "nbformat_minor": 2
}
