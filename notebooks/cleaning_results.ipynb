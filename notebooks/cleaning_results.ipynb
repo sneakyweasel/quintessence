{
 "cells": [
  {
   "attachments": {},
   "cell_type": "markdown",
   "metadata": {},
   "source": [
    "# Convert quantum results to GPT3 strings\n",
    "\n",
    "- Count total shots\n",
    "- Filter errors\n",
    "- Convert binary string results to places\n",
    "- Convert probabilities to GPT3 strings"
   ]
  },
  {
   "cell_type": "code",
   "execution_count": 41,
   "metadata": {},
   "outputs": [],
   "source": [
    "# JSON data\n",
    "json_data = {\n",
    "    \"computer\": \"ionq\",  # quantum computer to use\n",
    "    \"qbit_count\": 6,     # number of qubits to use\n",
    "    \"places\": [          # list of places to visit and their probabilities\n",
    "        {\"place\": \"Gym\", \"probability\": 0.2},\n",
    "        {\"place\": \"Opera\", \"probability\": 0.5},\n",
    "        {\"place\": \"Rooftop bar\", \"probability\": 0.9},\n",
    "        {\"place\": \"Street fair\", \"probability\": 0.0},\n",
    "        {\"place\": \"Pool\", \"probability\": 0.1},\n",
    "    ]\n",
    "}\n",
    "\n",
    "# Quantum computer results\n",
    "result = {\n",
    "  \"10000\": 85,\n",
    "  \"00001\": 832,\n",
    "  \"00010\": 99,\n",
    "  \"00100\": 4,\n",
    "  \"01000\": 1,\n",
    "  \"01100\": 2,\n",
    "  \"00000\": 1,\n",
    "}"
   ]
  },
  {
   "cell_type": "code",
   "execution_count": 42,
   "metadata": {},
   "outputs": [
    {
     "name": "stdout",
     "output_type": "stream",
     "text": [
      "1024\n"
     ]
    }
   ],
   "source": [
    "# Total shots\n",
    "total_shots = sum(result.values())\n",
    "print(total_shots)"
   ]
  },
  {
   "cell_type": "code",
   "execution_count": 43,
   "metadata": {},
   "outputs": [
    {
     "name": "stdout",
     "output_type": "stream",
     "text": [
      "{'10000': 85, '00001': 832, '00010': 99, '00100': 4, '01000': 1}\n"
     ]
    }
   ],
   "source": [
    "# Detect errors and remove it from the results\n",
    "def filter_errors(result):\n",
    "    return {key: value for key, value in result.items() if key.count('1') == 1}\n",
    "\n",
    "# Clean results\n",
    "cleaned_result = filter_errors(result)\n",
    "print(cleaned_result)"
   ]
  },
  {
   "cell_type": "code",
   "execution_count": 48,
   "metadata": {},
   "outputs": [
    {
     "name": "stdout",
     "output_type": "stream",
     "text": [
      "Pool\n"
     ]
    }
   ],
   "source": [
    "# Convert binary strings to places\n",
    "def convert_binary_to_place(binary_string, json_data):\n",
    "    index = binary_string.index('1')\n",
    "    return json_data['places'][index]['place']\n",
    "\n",
    "place_string = convert_binary_to_place('00001', json_data)\n",
    "print(place_string)"
   ]
  },
  {
   "cell_type": "code",
   "execution_count": 49,
   "metadata": {},
   "outputs": [
    {
     "name": "stdout",
     "output_type": "stream",
     "text": [
      "{'10000': 0.0830078125, '00001': 0.8125, '00010': 0.0966796875, '00100': 0.00390625, '01000': 0.0009765625, '01100': 0.001953125, '00000': 0.0009765625}\n"
     ]
    }
   ],
   "source": [
    "# Convert shots to probabilities\n",
    "def convert_shots_to_probabilities(result, total_shots):\n",
    "    return {key: value / total_shots for key, value in result.items()}\n",
    "\n",
    "processed_results = convert_shots_to_probabilities(result, total_shots)\n",
    "print(processed_results)"
   ]
  }
 ],
 "metadata": {
  "kernelspec": {
   "display_name": "Python 3",
   "language": "python",
   "name": "python3"
  },
  "language_info": {
   "codemirror_mode": {
    "name": "ipython",
    "version": 3
   },
   "file_extension": ".py",
   "mimetype": "text/x-python",
   "name": "python",
   "nbconvert_exporter": "python",
   "pygments_lexer": "ipython3",
   "version": "3.10.9"
  },
  "orig_nbformat": 4,
  "vscode": {
   "interpreter": {
    "hash": "aee8b7b246df8f9039afb4144a1f6fd8d2ca17a180786b69acc140d282b71a49"
   }
  }
 },
 "nbformat": 4,
 "nbformat_minor": 2
}
