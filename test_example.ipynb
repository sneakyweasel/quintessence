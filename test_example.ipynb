{
 "cells": [
  {
   "cell_type": "code",
   "execution_count": null,
   "metadata": {},
   "outputs": [],
   "source": []
  },
  {
   "attachments": {},
   "cell_type": "markdown",
   "metadata": {},
   "source": [
    "Narrative example:\n",
    "\n",
    "Mr Quanta woke up from a deep haze that left him completely decoherent. "
   ]
  }
 ],
 "metadata": {
  "kernelspec": {
   "display_name": "base",
   "language": "python",
   "name": "python3"
  },
  "language_info": {
   "name": "python",
   "version": "3.8.8 (default, Apr 13 2021, 19:58:26) \n[GCC 7.3.0]"
  },
  "orig_nbformat": 4,
  "vscode": {
   "interpreter": {
    "hash": "1f37f27245d596fe55b086ef4d07c8e05adeb0de442bb689b24ab3f7802e6e24"
   }
  }
 },
 "nbformat": 4,
 "nbformat_minor": 2
}
